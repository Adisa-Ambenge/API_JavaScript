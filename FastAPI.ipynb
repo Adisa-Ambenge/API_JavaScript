{
  "cells": [
    {
      "cell_type": "markdown",
      "metadata": {
        "id": "view-in-github",
        "colab_type": "text"
      },
      "source": [
        "<a href=\"https://colab.research.google.com/github/Adisa-Ambenge/API_JavaScript/blob/main/FastAPI.ipynb\" target=\"_parent\"><img src=\"https://colab.research.google.com/assets/colab-badge.svg\" alt=\"Open In Colab\"/></a>"
      ]
    },
    {
      "cell_type": "code",
      "execution_count": null,
      "metadata": {
        "id": "SUWC-1x2feKK"
      },
      "outputs": [],
      "source": [
        "pip install easynmt"
      ]
    },
    {
      "cell_type": "code",
      "execution_count": null,
      "metadata": {
        "id": "5bk5ukOWiQOI"
      },
      "outputs": [],
      "source": [
        "pip install fastapi pyngrok uvicorn nest-asyncio"
      ]
    },
    {
      "cell_type": "code",
      "execution_count": null,
      "metadata": {
        "colab": {
          "base_uri": "https://localhost:8080/"
        },
        "id": "q8leXLEMOuZH",
        "outputId": "c3b5e10d-8724-434c-8f74-8ff4ea0e030b"
      },
      "outputs": [
        {
          "name": "stdout",
          "output_type": "stream",
          "text": [
            "Authtoken saved to configuration file: /root/.ngrok2/ngrok.yml\n"
          ]
        }
      ],
      "source": [
        "!ngrok authtoken 2HJQ2AG410V9hP9U68Eyqf81irk_6wRbqXi8tR2E9A8cs7MLB"
      ]
    },
    {
      "cell_type": "code",
      "execution_count": null,
      "metadata": {
        "colab": {
          "base_uri": "https://localhost:8080/"
        },
        "id": "QosEb0kYQsrC",
        "outputId": "e374db92-c3a1-481a-9277-c3981bbb4978"
      },
      "outputs": [
        {
          "name": "stderr",
          "output_type": "stream",
          "text": [
            "11.9kB [00:00, 4.44MB/s]                   \n"
          ]
        }
      ],
      "source": [
        "\n",
        "from fastapi import FastAPI, Request\n",
        "from datetime import datetime\n",
        "from easynmt import EasyNMT\n",
        "\n",
        "model = EasyNMT('opus-mt')\n",
        "\n",
        "storage = FastAPI(title='MY FASTAPI')\n",
        "\n",
        "@storage.get('/')\n",
        "def index():\n",
        "    return \"This is my API\"\n",
        "\n",
        "@storage.get('/today')\n",
        "def today():\n",
        "    return \"This is Natural Language Processing\"\n",
        "\n",
        "@storage.get('/mynames')\n",
        "def names(First_name:bool = False, last_name:bool = False):\n",
        "    full_names = \"\"\n",
        "    if First_name:\n",
        "        full_names += 'Joyeuse'\n",
        "    if last_name:\n",
        "        full_names += 'KABANYANA'\n",
        "\n",
        "\n",
        "    return full_names\n",
        "@storage.get('/translate')\n",
        "def translate(text : str = ''):\n",
        "  response = model.translate([text], target_lang='fr')\n",
        "  return response[0]\n"
      ]
    },
    {
      "cell_type": "code",
      "execution_count": null,
      "metadata": {
        "colab": {
          "background_save": true,
          "base_uri": "https://localhost:8080/"
        },
        "id": "x7233rWpU1FV",
        "outputId": "69314522-44ee-49d1-a95a-096c8abc33eb"
      },
      "outputs": [
        {
          "name": "stdout",
          "output_type": "stream",
          "text": [
            "REST API started\n",
            "Your public API URL: http://fe79-34-80-74-5.ngrok.io\n",
            "You can for example open the following URL in your browser: http://fe79-34-80-74-5.ngrok.io?target_lang=en&text=Hallo%20Welt\n"
          ]
        },
        {
          "name": "stderr",
          "output_type": "stream",
          "text": [
            "INFO:     Started server process [77]\n",
            "INFO:     Waiting for application startup.\n",
            "INFO:     Application startup complete.\n",
            "INFO:     Uvicorn running on http://127.0.0.1:8000 (Press CTRL+C to quit)\n"
          ]
        }
      ],
      "source": [
        "import nest_asyncio\n",
        "from pyngrok import ngrok\n",
        "import uvicorn\n",
        "ngrok_tunnel = ngrok.connect(8000)\n",
        "print(\"REST API started\")\n",
        "print(\"Your public API URL:\", ngrok_tunnel.public_url)\n",
        "print(\"You can for example open the following URL in your browser: {}?target_lang=en&text=Hallo%20Welt\".format(ngrok_tunnel.public_url))\n",
        "nest_asyncio.apply()\n",
        "uvicorn.run(storage, port=8000)"
      ]
    },
    {
      "cell_type": "code",
      "execution_count": null,
      "metadata": {
        "id": "TOI7zA2RZ1_s"
      },
      "outputs": [],
      "source": [
        "!pkill ngrok"
      ]
    }
  ],
  "metadata": {
    "colab": {
      "provenance": [],
      "include_colab_link": true
    },
    "kernelspec": {
      "display_name": "Python 3",
      "name": "python3"
    },
    "language_info": {
      "name": "python"
    }
  },
  "nbformat": 4,
  "nbformat_minor": 0
}